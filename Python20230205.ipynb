{
  "nbformat": 4,
  "nbformat_minor": 0,
  "metadata": {
    "colab": {
      "provenance": []
    },
    "kernelspec": {
      "name": "python3",
      "display_name": "Python 3"
    },
    "language_info": {
      "name": "python"
    }
  },
  "cells": [
    {
      "cell_type": "markdown",
      "source": [
        "Python 2023/2/5\n",
        "\n",
        "練習\n",
        "bin(binary)二進位\n",
        "oct(octal)八進位\n",
        "hex(hexadecimal)十六進位\n",
        "\n",
        "\n"
      ],
      "metadata": {
        "id": "AZPW6dZyMLuV"
      }
    },
    {
      "cell_type": "code",
      "source": [
        "a = int(input())\n",
        "b = a + 1\n",
        "print(b)"
      ],
      "metadata": {
        "colab": {
          "base_uri": "https://localhost:8080/"
        },
        "id": "nvJoqY7SZIX8",
        "outputId": "795f99dd-751c-4b72-ccc4-0044e623d8ed"
      },
      "execution_count": 4,
      "outputs": [
        {
          "output_type": "stream",
          "name": "stdout",
          "text": [
            "3\n",
            "4\n"
          ]
        }
      ]
    },
    {
      "cell_type": "code",
      "source": [
        "b = int(0.9999999)\n",
        "int(b)"
      ],
      "metadata": {
        "colab": {
          "base_uri": "https://localhost:8080/"
        },
        "id": "E7_Szh5Ac6t8",
        "outputId": "98a15dc5-390b-4311-9e60-05f089756198"
      },
      "execution_count": 5,
      "outputs": [
        {
          "output_type": "execute_result",
          "data": {
            "text/plain": [
              "0"
            ]
          },
          "metadata": {},
          "execution_count": 5
        }
      ]
    },
    {
      "cell_type": "code",
      "source": [
        "a = 344\n",
        "print(bin(a))\n",
        "print(oct(a))\n",
        "print(hex(a))"
      ],
      "metadata": {
        "colab": {
          "base_uri": "https://localhost:8080/"
        },
        "id": "ubU1Ctocd2lT",
        "outputId": "04b4f100-1ede-4cbb-96d2-316ac87062bb"
      },
      "execution_count": 6,
      "outputs": [
        {
          "output_type": "stream",
          "name": "stdout",
          "text": [
            "0b101011000\n",
            "0o530\n",
            "0x158\n"
          ]
        }
      ]
    },
    {
      "cell_type": "code",
      "source": [],
      "metadata": {
        "id": "HxeD9hced2sD"
      },
      "execution_count": null,
      "outputs": []
    }
  ]
}