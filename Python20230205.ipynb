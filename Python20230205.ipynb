{
  "nbformat": 4,
  "nbformat_minor": 0,
  "metadata": {
    "colab": {
      "provenance": []
    },
    "kernelspec": {
      "name": "python3",
      "display_name": "Python 3"
    },
    "language_info": {
      "name": "python"
    }
  },
  "cells": [
    {
      "cell_type": "markdown",
      "source": [
        "Python 2023/2/5\n",
        "\n",
        "練習\n",
        "\n"
      ],
      "metadata": {
        "id": "AZPW6dZyMLuV"
      }
    },
    {
      "cell_type": "code",
      "source": [
        "a = int(input())\n",
        "b = a + 1\n",
        "print(b)"
      ],
      "metadata": {
        "colab": {
          "base_uri": "https://localhost:8080/"
        },
        "id": "nvJoqY7SZIX8",
        "outputId": "367d5e76-a17a-4e1c-d238-0a5ca5cd5e2c"
      },
      "execution_count": 1,
      "outputs": [
        {
          "output_type": "stream",
          "name": "stdout",
          "text": [
            "3\n",
            "4\n"
          ]
        }
      ]
    }
  ]
}